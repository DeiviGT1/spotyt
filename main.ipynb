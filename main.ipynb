{
 "cells": [
  {
   "cell_type": "code",
   "execution_count": 1,
   "metadata": {},
   "outputs": [],
   "source": [
    "import os\n",
    "\n",
    "import google_auth_oauthlib.flow\n",
    "import googleapiclient.discovery\n",
    "import googleapiclient.errors\n",
    "\n",
    "scopes = [\"https://www.googleapis.com/auth/youtube.readonly\"]"
   ]
  },
  {
   "cell_type": "code",
   "execution_count": 6,
   "metadata": {},
   "outputs": [
    {
     "name": "stdout",
     "output_type": "stream",
     "text": [
      "Please visit this URL to authorize this application: https://accounts.google.com/o/oauth2/auth?response_type=code&client_id=533959068547-jto02epdpi5psj9vrhiamgekfr6muhdh.apps.googleusercontent.com&redirect_uri=http%3A%2F%2Flocalhost%3A51637%2F&scope=https%3A%2F%2Fwww.googleapis.com%2Fauth%2Fyoutube.readonly&state=m0rb01FcLgdPz1tTC23h2NZLPa5PVI&access_type=offline\n"
     ]
    }
   ],
   "source": [
    "def main():\n",
    "    # Disable OAuthlib's HTTPS verification when running locally.\n",
    "    # *DO NOT* leave this option enabled in production.\n",
    "    os.environ[\"OAUTHLIB_INSECURE_TRANSPORT\"] = \"1\"\n",
    "\n",
    "    api_service_name = \"youtube\"\n",
    "    api_version = \"v3\"\n",
    "    client_secrets_file = \"./client_secret_533959068547-jto02epdpi5psj9vrhiamgekfr6muhdh.apps.googleusercontent.com.json\"\n",
    "\n",
    "    # Get credentials and create an API client\n",
    "    flow = google_auth_oauthlib.flow.InstalledAppFlow.from_client_secrets_file(\n",
    "        client_secrets_file, scopes)\n",
    "    credentials = flow.run_local_server(port=0)\n",
    "    youtube = googleapiclient.discovery.build(\n",
    "        api_service_name, api_version, credentials=credentials)\n",
    "\n",
    "    request = youtube.playlistItems().list(\n",
    "        part=\"snippet,contentDetails\",\n",
    "        maxResults=25,\n",
    "        playlistId=\"PLBCF2DAC6FFB574DE\"\n",
    "    )\n",
    "    response = request.execute()\n",
    "\n",
    "    print(response)\n",
    "\n",
    "if __name__ == \"__main__\":\n",
    "    main()"
   ]
  },
  {
   "cell_type": "code",
   "execution_count": 4,
   "metadata": {},
   "outputs": [
    {
     "name": "stdout",
     "output_type": "stream",
     "text": [
      "Collecting google-api-python-client==1.7.2\n",
      "  Downloading google_api_python_client-1.7.2-py2.py3-none-any.whl (54 kB)\n",
      "     ---------------------------------------- 0.0/54.9 kB ? eta -:--:--\n",
      "     ------- -------------------------------- 10.2/54.9 kB ? eta -:--:--\n",
      "     ---------------------------- --------- 41.0/54.9 kB 487.6 kB/s eta 0:00:01\n",
      "     -------------------------------------- 54.9/54.9 kB 475.3 kB/s eta 0:00:00\n",
      "Collecting google-auth==1.8.0\n",
      "  Downloading google_auth-1.8.0-py2.py3-none-any.whl (75 kB)\n",
      "     ---------------------------------------- 0.0/75.8 kB ? eta -:--:--\n",
      "     ------------------------------------- -- 71.7/75.8 kB 1.3 MB/s eta 0:00:01\n",
      "     ---------------------------------------- 75.8/75.8 kB 1.4 MB/s eta 0:00:00\n",
      "Collecting google-auth-httplib2==0.0.3\n",
      "  Downloading google_auth_httplib2-0.0.3-py2.py3-none-any.whl (6.3 kB)\n",
      "Collecting google-auth-oauthlib==0.4.1\n",
      "  Downloading google_auth_oauthlib-0.4.1-py2.py3-none-any.whl (18 kB)\n",
      "Requirement already satisfied: httplib2<1dev,>=0.9.2 in c:\\users\\jgonzalezt\\youtube api\\venv\\lib\\site-packages (from google-api-python-client==1.7.2) (0.22.0)\n",
      "Requirement already satisfied: six<2dev,>=1.6.1 in c:\\users\\jgonzalezt\\youtube api\\venv\\lib\\site-packages (from google-api-python-client==1.7.2) (1.16.0)\n",
      "Collecting uritemplate<4dev,>=3.0.0 (from google-api-python-client==1.7.2)\n",
      "  Downloading uritemplate-3.0.1-py2.py3-none-any.whl (15 kB)\n",
      "Collecting cachetools<3.2,>=2.0.0 (from google-auth==1.8.0)\n",
      "  Downloading cachetools-3.1.1-py2.py3-none-any.whl (11 kB)\n",
      "Requirement already satisfied: pyasn1-modules>=0.2.1 in c:\\users\\jgonzalezt\\youtube api\\venv\\lib\\site-packages (from google-auth==1.8.0) (0.3.0)\n",
      "Collecting rsa<4.1,>=3.1.4 (from google-auth==1.8.0)\n",
      "  Downloading rsa-4.0-py2.py3-none-any.whl (38 kB)\n",
      "Collecting setuptools>=40.3.0 (from google-auth==1.8.0)\n",
      "  Obtaining dependency information for setuptools>=40.3.0 from https://files.pythonhosted.org/packages/55/3a/5121b58b578a598b269537e09a316ad2a94fdd561a2c6eb75cd68578cc6b/setuptools-69.0.3-py3-none-any.whl.metadata\n",
      "  Downloading setuptools-69.0.3-py3-none-any.whl.metadata (6.3 kB)\n",
      "Requirement already satisfied: requests-oauthlib>=0.7.0 in c:\\users\\jgonzalezt\\youtube api\\venv\\lib\\site-packages (from google-auth-oauthlib==0.4.1) (1.3.1)\n",
      "Requirement already satisfied: pyparsing!=3.0.0,!=3.0.1,!=3.0.2,!=3.0.3,<4,>=2.4.2 in c:\\users\\jgonzalezt\\youtube api\\venv\\lib\\site-packages (from httplib2<1dev,>=0.9.2->google-api-python-client==1.7.2) (3.1.1)\n",
      "Requirement already satisfied: pyasn1<0.6.0,>=0.4.6 in c:\\users\\jgonzalezt\\youtube api\\venv\\lib\\site-packages (from pyasn1-modules>=0.2.1->google-auth==1.8.0) (0.5.1)\n",
      "Requirement already satisfied: oauthlib>=3.0.0 in c:\\users\\jgonzalezt\\youtube api\\venv\\lib\\site-packages (from requests-oauthlib>=0.7.0->google-auth-oauthlib==0.4.1) (3.2.2)\n",
      "Requirement already satisfied: requests>=2.0.0 in c:\\users\\jgonzalezt\\youtube api\\venv\\lib\\site-packages (from requests-oauthlib>=0.7.0->google-auth-oauthlib==0.4.1) (2.31.0)\n",
      "Requirement already satisfied: charset-normalizer<4,>=2 in c:\\users\\jgonzalezt\\youtube api\\venv\\lib\\site-packages (from requests>=2.0.0->requests-oauthlib>=0.7.0->google-auth-oauthlib==0.4.1) (3.3.2)\n",
      "Requirement already satisfied: idna<4,>=2.5 in c:\\users\\jgonzalezt\\youtube api\\venv\\lib\\site-packages (from requests>=2.0.0->requests-oauthlib>=0.7.0->google-auth-oauthlib==0.4.1) (3.6)\n",
      "Requirement already satisfied: urllib3<3,>=1.21.1 in c:\\users\\jgonzalezt\\youtube api\\venv\\lib\\site-packages (from requests>=2.0.0->requests-oauthlib>=0.7.0->google-auth-oauthlib==0.4.1) (2.1.0)\n",
      "Requirement already satisfied: certifi>=2017.4.17 in c:\\users\\jgonzalezt\\youtube api\\venv\\lib\\site-packages (from requests>=2.0.0->requests-oauthlib>=0.7.0->google-auth-oauthlib==0.4.1) (2023.11.17)\n",
      "Downloading setuptools-69.0.3-py3-none-any.whl (819 kB)\n",
      "   ---------------------------------------- 0.0/819.5 kB ? eta -:--:--\n",
      "   ----- ---------------------------------- 122.9/819.5 kB 7.0 MB/s eta 0:00:01\n",
      "   -------------- ------------------------- 307.2/819.5 kB 4.7 MB/s eta 0:00:01\n",
      "   ----------------------- ---------------- 481.3/819.5 kB 4.3 MB/s eta 0:00:01\n",
      "   -------------------------------- ------- 665.6/819.5 kB 4.2 MB/s eta 0:00:01\n",
      "   ---------------------------------------  819.2/819.5 kB 4.0 MB/s eta 0:00:01\n",
      "   ---------------------------------------- 819.5/819.5 kB 3.5 MB/s eta 0:00:00\n",
      "Installing collected packages: cachetools, uritemplate, setuptools, rsa, google-auth, google-auth-oauthlib, google-auth-httplib2, google-api-python-client\n",
      "  Attempting uninstall: cachetools\n",
      "    Found existing installation: cachetools 5.3.2\n",
      "    Uninstalling cachetools-5.3.2:\n",
      "      Successfully uninstalled cachetools-5.3.2\n",
      "  Attempting uninstall: uritemplate\n",
      "    Found existing installation: uritemplate 4.1.1\n",
      "    Uninstalling uritemplate-4.1.1:\n",
      "      Successfully uninstalled uritemplate-4.1.1\n",
      "  Attempting uninstall: rsa\n",
      "    Found existing installation: rsa 4.9\n",
      "    Uninstalling rsa-4.9:\n",
      "      Successfully uninstalled rsa-4.9\n",
      "  Attempting uninstall: google-auth\n",
      "    Found existing installation: google-auth 2.25.2\n",
      "    Uninstalling google-auth-2.25.2:\n",
      "      Successfully uninstalled google-auth-2.25.2\n",
      "  Attempting uninstall: google-auth-oauthlib\n",
      "    Found existing installation: google-auth-oauthlib 1.2.0\n",
      "    Uninstalling google-auth-oauthlib-1.2.0:\n",
      "      Successfully uninstalled google-auth-oauthlib-1.2.0\n",
      "  Attempting uninstall: google-auth-httplib2\n",
      "    Found existing installation: google-auth-httplib2 0.2.0\n",
      "    Uninstalling google-auth-httplib2-0.2.0:\n",
      "      Successfully uninstalled google-auth-httplib2-0.2.0\n",
      "  Attempting uninstall: google-api-python-client\n",
      "    Found existing installation: google-api-python-client 2.111.0\n",
      "    Uninstalling google-api-python-client-2.111.0:\n",
      "      Successfully uninstalled google-api-python-client-2.111.0\n",
      "Successfully installed cachetools-3.1.1 google-api-python-client-1.7.2 google-auth-1.8.0 google-auth-httplib2-0.0.3 google-auth-oauthlib-0.4.1 rsa-4.0 setuptools-69.0.3 uritemplate-3.0.1\n"
     ]
    },
    {
     "name": "stderr",
     "output_type": "stream",
     "text": [
      "ERROR: pip's dependency resolver does not currently take into account all the packages that are installed. This behaviour is the source of the following dependency conflicts.\n",
      "google-api-core 2.15.0 requires google-auth<3.0.dev0,>=2.14.1, but you have google-auth 1.8.0 which is incompatible.\n",
      "\n",
      "[notice] A new release of pip is available: 23.2.1 -> 23.3.2\n",
      "[notice] To update, run: python.exe -m pip install --upgrade pip\n"
     ]
    }
   ],
   "source": [
    "!pip install google-api-python-client==1.7.2 google-auth==1.8.0 google-auth-httplib2==0.0.3 google-auth-oauthlib==0.4.1"
   ]
  }
 ],
 "metadata": {
  "kernelspec": {
   "display_name": "venv",
   "language": "python",
   "name": "python3"
  },
  "language_info": {
   "codemirror_mode": {
    "name": "ipython",
    "version": 3
   },
   "file_extension": ".py",
   "mimetype": "text/x-python",
   "name": "python",
   "nbconvert_exporter": "python",
   "pygments_lexer": "ipython3",
   "version": "3.12.1"
  }
 },
 "nbformat": 4,
 "nbformat_minor": 2
}
